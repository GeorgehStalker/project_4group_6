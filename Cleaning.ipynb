{
 "cells": [
  {
   "cell_type": "code",
   "execution_count": 38,
   "metadata": {},
   "outputs": [],
   "source": [
    "import pandas as pd\n",
    "import numpy as np\n",
    "import matplotlib.pyplot as plt\n",
    "import matplotlib as mpl\n",
    "mpl.rcParams['patch.force_edgecolor'] = True\n",
    "import seaborn as sns\n",
    "import warnings\n",
    "warnings.filterwarnings(\"ignore\")\n",
    "%matplotlib inline\n",
    "from sklearn.model_selection import train_test_split\n",
    "from sklearn.preprocessing import StandardScaler\n",
    "from sklearn.preprocessing import OneHotEncoder\n",
    "from sklearn.compose import ColumnTransformer\n",
    "from sklearn.pipeline import Pipeline\n",
    "from sklearn.linear_model import LogisticRegression\n",
    "from sklearn.metrics import mean_squared_error, r2_score"
   ]
  },
  {
   "cell_type": "code",
   "execution_count": 39,
   "metadata": {},
   "outputs": [
    {
     "name": "stdout",
     "output_type": "stream",
     "text": [
      "   User ID        Username                                              Tweet  \\\n",
      "0   132131           flong  Station activity person against natural majori...   \n",
      "1   289683  hinesstephanie  Authority research natural life material staff...   \n",
      "2   779715      roberttran  Manage whose quickly especially foot none to g...   \n",
      "3   696168          pmason  Just cover eight opportunity strong policy which.   \n",
      "4   704441          noah87                      Animal sign six data good or.   \n",
      "\n",
      "   Retweet Count  Mention Count  Follower Count  Verified  Bot Label  \\\n",
      "0             85              1            2353     False          1   \n",
      "1             55              5            9617      True          0   \n",
      "2              6              2            4363      True          0   \n",
      "3             54              5            2242      True          1   \n",
      "4             26              3            8438     False          1   \n",
      "\n",
      "       Location           Created At            Hashtags  \n",
      "0     Adkinston  2020-05-11 15:29:50                 NaN  \n",
      "1    Sanderston  2022-11-26 05:18:10           both live  \n",
      "2  Harrisonfurt  2022-08-08 03:16:54         phone ahead  \n",
      "3  Martinezberg  2021-08-14 22:27:05  ever quickly new I  \n",
      "4  Camachoville  2020-04-13 21:24:21     foreign mention  \n"
     ]
    }
   ],
   "source": [
    "# Load your CSV file\n",
    "\n",
    "df = pd.read_csv('resources/bot_detection_data.csv')\n",
    "\n",
    "# Display the first few rows to check the data\n",
    "print(df.head())\n"
   ]
  },
  {
   "cell_type": "code",
   "execution_count": 40,
   "metadata": {},
   "outputs": [
    {
     "name": "stdout",
     "output_type": "stream",
     "text": [
      "Index(['User ID', 'Username', 'Tweet', 'Retweet Count', 'Mention Count',\n",
      "       'Follower Count', 'Verified', 'Bot Label', 'Location', 'Created At',\n",
      "       'Hashtags'],\n",
      "      dtype='object')\n"
     ]
    }
   ],
   "source": [
    "# Check all column names\n",
    "print(df.columns)\n",
    "\n"
   ]
  },
  {
   "cell_type": "code",
   "execution_count": 41,
   "metadata": {},
   "outputs": [
    {
     "name": "stdout",
     "output_type": "stream",
     "text": [
      "Unique values in User ID: [132131 289683 779715 ... 674475 167081 311204]\n",
      "Unique values in Username: ['flong' 'hinesstephanie' 'roberttran' ... 'lynncunningham'\n",
      " 'richardthompson' 'daniel29']\n",
      "Unique values in Tweet: ['Station activity person against natural majority none few size expect six marriage.'\n",
      " 'Authority research natural life material staff rate common protect attention.'\n",
      " 'Manage whose quickly especially foot none to goal range case.' ...\n",
      " 'Bring different everyone international capital government yeah.'\n",
      " 'Than about single generation itself seek sell still hour her.'\n",
      " 'Here morning class various room human true because lot send attention.']\n",
      "Unique values in Retweet Count: [ 85  55   6  54  26  41  64  25  67  57  29  60  61  21  78  43  39   8\n",
      "  84  86  56  49   7  75  77  40  15  13  63  58  34  66  18   0  72  24\n",
      "  87  44  46  10  23  28   3  71  89  59  97  70  88  69  81  99  37   4\n",
      "  93  30  74  62  90  20  98  76  92   5  17  52  83  35  45  91   9  65\n",
      "  19  51  73  11  14   2 100  16  95  96  48  31  36  80  79  32  47  42\n",
      "  50  27  12   1  38  94  68  53  33  82  22]\n",
      "Unique values in Mention Count: [1 5 2 3 4 0]\n",
      "Unique values in Follower Count: [2353 9617 4363 ... 2929 8048  318]\n",
      "Unique values in Verified: [False  True]\n",
      "Unique values in Bot Label: [1 0]\n",
      "Unique values in Location: ['Adkinston' 'Sanderston' 'Harrisonfurt' ... 'West Jacquelineville'\n",
      " 'Lake Kimberlyburgh' 'Deborahfort']\n",
      "Unique values in Created At: ['2020-05-11 15:29:50' '2022-11-26 05:18:10' '2022-08-08 03:16:54' ...\n",
      " '2020-07-08 03:54:08' '2022-03-22 12:13:44' '2022-12-03 06:11:07']\n",
      "Unique values in Hashtags: [nan 'both live' 'phone ahead' ... 'teach quality ten education any'\n",
      " 'add walk among believe' 'onto admit artist first']\n"
     ]
    }
   ],
   "source": [
    "# Get unique values for each column separately\n",
    "user_id_unique = df['User ID'].unique()\n",
    "username_unique = df['Username'].unique()\n",
    "tweet_unique = df['Tweet'].unique()\n",
    "retweet_count_unique = df['Retweet Count'].unique()\n",
    "mention_count_unique = df['Mention Count'].unique()\n",
    "follower_count_unique = df['Follower Count'].unique()\n",
    "verified_unique = df['Verified'].unique()\n",
    "bot_label_unique = df['Bot Label'].unique()\n",
    "location_unique = df['Location'].unique()\n",
    "created_at_unique = df['Created At'].unique()\n",
    "hashtags_unique = df['Hashtags'].unique()\n",
    "\n",
    "# Print unique values for each column\n",
    "print('Unique values in User ID:', user_id_unique)\n",
    "print('Unique values in Username:', username_unique)\n",
    "print('Unique values in Tweet:', tweet_unique)\n",
    "print('Unique values in Retweet Count:', retweet_count_unique)\n",
    "print('Unique values in Mention Count:', mention_count_unique)\n",
    "print('Unique values in Follower Count:', follower_count_unique)\n",
    "print('Unique values in Verified:', verified_unique)\n",
    "print('Unique values in Bot Label:', bot_label_unique)\n",
    "print('Unique values in Location:', location_unique)\n",
    "print('Unique values in Created At:', created_at_unique)\n",
    "print('Unique values in Hashtags:', hashtags_unique)\n"
   ]
  },
  {
   "cell_type": "code",
   "execution_count": 42,
   "metadata": {},
   "outputs": [
    {
     "name": "stdout",
     "output_type": "stream",
     "text": [
      "Index(['User ID', 'Username', 'Tweet', 'Retweet Count', 'Mention Count',\n",
      "       'Follower Count', 'Verified', 'Bot Label', 'Location', 'Created At',\n",
      "       'Hashtags'],\n",
      "      dtype='object')\n"
     ]
    }
   ],
   "source": [
    "print(df.columns)\n"
   ]
  },
  {
   "cell_type": "code",
   "execution_count": 43,
   "metadata": {},
   "outputs": [
    {
     "name": "stdout",
     "output_type": "stream",
     "text": [
      "Before Cleaning:\n",
      "<class 'pandas.core.frame.DataFrame'>\n",
      "RangeIndex: 50000 entries, 0 to 49999\n",
      "Data columns (total 11 columns):\n",
      " #   Column          Non-Null Count  Dtype \n",
      "---  ------          --------------  ----- \n",
      " 0   User ID         50000 non-null  int64 \n",
      " 1   Username        50000 non-null  object\n",
      " 2   Tweet           50000 non-null  object\n",
      " 3   Retweet Count   50000 non-null  int64 \n",
      " 4   Mention Count   50000 non-null  int64 \n",
      " 5   Follower Count  50000 non-null  int64 \n",
      " 6   Verified        50000 non-null  bool  \n",
      " 7   Bot Label       50000 non-null  int64 \n",
      " 8   Location        50000 non-null  object\n",
      " 9   Created At      50000 non-null  object\n",
      " 10  Hashtags        41659 non-null  object\n",
      "dtypes: bool(1), int64(5), object(5)\n",
      "memory usage: 3.9+ MB\n",
      "None\n",
      "\n",
      "Summary statistics (before):\n",
      "              User ID Username  \\\n",
      "count    50000.000000    50000   \n",
      "unique            NaN    40566   \n",
      "top               NaN   ksmith   \n",
      "freq              NaN       21   \n",
      "mean    548890.680540      NaN   \n",
      "std     259756.681425      NaN   \n",
      "min     100025.000000      NaN   \n",
      "25%     323524.250000      NaN   \n",
      "50%     548147.000000      NaN   \n",
      "75%     772983.000000      NaN   \n",
      "max     999995.000000      NaN   \n",
      "\n",
      "                                                    Tweet  Retweet Count  \\\n",
      "count                                               50000    50000.00000   \n",
      "unique                                              50000            NaN   \n",
      "top     Station activity person against natural majori...            NaN   \n",
      "freq                                                    1            NaN   \n",
      "mean                                                  NaN       50.00560   \n",
      "std                                                   NaN       29.18116   \n",
      "min                                                   NaN        0.00000   \n",
      "25%                                                   NaN       25.00000   \n",
      "50%                                                   NaN       50.00000   \n",
      "75%                                                   NaN       75.00000   \n",
      "max                                                   NaN      100.00000   \n",
      "\n",
      "        Mention Count  Follower Count Verified     Bot Label       Location  \\\n",
      "count    50000.000000    50000.000000    50000  50000.000000          50000   \n",
      "unique            NaN             NaN        2           NaN          25199   \n",
      "top               NaN             NaN     True           NaN  South Michael   \n",
      "freq              NaN             NaN    25004           NaN             44   \n",
      "mean         2.513760     4988.602380      NaN      0.500360            NaN   \n",
      "std          1.708563     2878.742898      NaN      0.500005            NaN   \n",
      "min          0.000000        0.000000      NaN      0.000000            NaN   \n",
      "25%          1.000000     2487.750000      NaN      0.000000            NaN   \n",
      "50%          3.000000     4991.500000      NaN      1.000000            NaN   \n",
      "75%          4.000000     7471.000000      NaN      1.000000            NaN   \n",
      "max          5.000000    10000.000000      NaN      1.000000            NaN   \n",
      "\n",
      "                 Created At Hashtags  \n",
      "count                 50000    41659  \n",
      "unique                49989    34247  \n",
      "top     2021-02-07 06:50:00     area  \n",
      "freq                      2       21  \n",
      "mean                    NaN      NaN  \n",
      "std                     NaN      NaN  \n",
      "min                     NaN      NaN  \n",
      "25%                     NaN      NaN  \n",
      "50%                     NaN      NaN  \n",
      "75%                     NaN      NaN  \n",
      "max                     NaN      NaN  \n",
      "\n",
      "After Cleaning:\n",
      "<class 'pandas.core.frame.DataFrame'>\n",
      "RangeIndex: 50000 entries, 0 to 49999\n",
      "Data columns (total 11 columns):\n",
      " #   Column          Non-Null Count  Dtype         \n",
      "---  ------          --------------  -----         \n",
      " 0   User ID         50000 non-null  int64         \n",
      " 1   Username        50000 non-null  object        \n",
      " 2   Tweet           50000 non-null  object        \n",
      " 3   Retweet Count   50000 non-null  int32         \n",
      " 4   Mention Count   50000 non-null  int32         \n",
      " 5   Follower Count  50000 non-null  int32         \n",
      " 6   Verified        50000 non-null  bool          \n",
      " 7   Bot Label       50000 non-null  int64         \n",
      " 8   Location        50000 non-null  object        \n",
      " 9   Created At      50000 non-null  datetime64[ns]\n",
      " 10  Hashtags        50000 non-null  object        \n",
      "dtypes: bool(1), datetime64[ns](1), int32(3), int64(2), object(4)\n",
      "memory usage: 3.3+ MB\n",
      "None\n",
      "\n",
      "Summary statistics (after):\n",
      "              User ID Username  \\\n",
      "count    50000.000000    50000   \n",
      "unique            NaN    40566   \n",
      "top               NaN   Ksmith   \n",
      "freq              NaN       21   \n",
      "mean    548890.680540      NaN   \n",
      "min     100025.000000      NaN   \n",
      "25%     323524.250000      NaN   \n",
      "50%     548147.000000      NaN   \n",
      "75%     772983.000000      NaN   \n",
      "max     999995.000000      NaN   \n",
      "std     259756.681425      NaN   \n",
      "\n",
      "                                                    Tweet  Retweet Count  \\\n",
      "count                                               50000    50000.00000   \n",
      "unique                                              50000            NaN   \n",
      "top     Station activity person against natural majori...            NaN   \n",
      "freq                                                    1            NaN   \n",
      "mean                                                  NaN       50.00560   \n",
      "min                                                   NaN        0.00000   \n",
      "25%                                                   NaN       25.00000   \n",
      "50%                                                   NaN       50.00000   \n",
      "75%                                                   NaN       75.00000   \n",
      "max                                                   NaN      100.00000   \n",
      "std                                                   NaN       29.18116   \n",
      "\n",
      "        Mention Count  Follower Count Verified     Bot Label       Location  \\\n",
      "count    50000.000000    50000.000000    50000  50000.000000          50000   \n",
      "unique            NaN             NaN        2           NaN          25199   \n",
      "top               NaN             NaN     True           NaN  South Michael   \n",
      "freq              NaN             NaN    25004           NaN             44   \n",
      "mean         2.513760     4988.602380      NaN      0.500360            NaN   \n",
      "min          0.000000        0.000000      NaN      0.000000            NaN   \n",
      "25%          1.000000     2487.750000      NaN      0.000000            NaN   \n",
      "50%          3.000000     4991.500000      NaN      1.000000            NaN   \n",
      "75%          4.000000     7471.000000      NaN      1.000000            NaN   \n",
      "max          5.000000    10000.000000      NaN      1.000000            NaN   \n",
      "std          1.708563     2878.742898      NaN      0.500005            NaN   \n",
      "\n",
      "                           Created At Hashtags  \n",
      "count                           50000    50000  \n",
      "unique                            NaN    34248  \n",
      "top                               NaN           \n",
      "freq                              NaN     8341  \n",
      "mean    2021-09-14 06:15:49.674619904      NaN  \n",
      "min               2020-01-01 00:44:14      NaN  \n",
      "25%        2020-11-03 09:24:48.500000      NaN  \n",
      "50%               2021-09-16 20:59:38      NaN  \n",
      "75%     2022-07-23 02:17:01.750000128      NaN  \n",
      "max               2023-05-31 07:53:27      NaN  \n",
      "std                               NaN      NaN  \n"
     ]
    }
   ],
   "source": [
    "# Step 0: Before cleaning - Print basic info and summary\n",
    "print(\"Before Cleaning:\")\n",
    "print(df.info())  # Info about columns, data types, and non-null counts\n",
    "print(\"\\nSummary statistics (before):\")\n",
    "print(df.describe(include='all'))  # Summary statistics before cleaning\n",
    "\n",
    "# Step 2: Handle missing values\n",
    "df['Username'] = df['Username'].fillna('Unknown')\n",
    "df['Location'] = df['Location'].fillna('Unknown')\n",
    "df['Verified'] = df['Verified'].fillna(False)  # Assuming False is appropriate for missing values\n",
    "df['Bot Label'] = df['Bot Label'].fillna(0)  # Assuming 0 is a reasonable fill for bots\n",
    "df['Hashtags'] = df['Hashtags'].fillna('')  # Filling NaNs in Hashtags with an empty string\n",
    "\n",
    "# For numerical columns\n",
    "df['Follower Count'] = df['Follower Count'].fillna(df['Follower Count'].mean())\n",
    "df['Retweet Count'] = df['Retweet Count'].fillna(0)  # Assuming 0 is a reasonable fill\n",
    "df['Mention Count'] = df['Mention Count'].fillna(0)  # Assuming 0 is a reasonable fill\n",
    "\n",
    "# Step 3: Standardize categorical values (if needed)\n",
    "df['Username'] = df['Username'].str.title()  # Capitalize usernames\n",
    "df['Location'] = df['Location'].str.title()  # Capitalize locations\n",
    "\n",
    "# Step 4: Convert data types\n",
    "df['Created At'] = pd.to_datetime(df['Created At'], errors='coerce')  # Convert to datetime\n",
    "df['Follower Count'] = df['Follower Count'].astype(int)\n",
    "df['Retweet Count'] = df['Retweet Count'].astype(int)\n",
    "df['Mention Count'] = df['Mention Count'].astype(int)\n",
    "\n",
    "# Step 5: Remove duplicates\n",
    "df = df.drop_duplicates()\n",
    "\n",
    "# Step 6: After cleaning - Print basic info and summary\n",
    "print(\"\\nAfter Cleaning:\")\n",
    "print(df.info())  # Info about columns, data types, and non-null counts\n",
    "print(\"\\nSummary statistics (after):\")\n",
    "print(df.describe(include='all'))  # Summary statistics after cleaning\n"
   ]
  },
  {
   "cell_type": "code",
   "execution_count": 44,
   "metadata": {},
   "outputs": [
    {
     "name": "stdout",
     "output_type": "stream",
     "text": [
      "Number of bots: 25018\n",
      "Number of non-bots: 24982\n"
     ]
    }
   ],
   "source": [
    "# Step 1: Drop rows with NaN values in the Bot Label column (previously ISBOT)\n",
    "data_cleaned = df.dropna(subset=['Bot Label'])\n",
    "\n",
    "# Step 2: Separate bots and non-bots based on the Bot Label column\n",
    "bots = data_cleaned[data_cleaned['Bot Label'] == 1]  # Assuming 1 indicates a bot\n",
    "nonbots = data_cleaned[data_cleaned['Bot Label'] == 0]  # Assuming 0 indicates a non-bot\n",
    "\n",
    "# Optional: print the counts\n",
    "print(\"Number of bots:\", bots.shape[0])\n",
    "print(\"Number of non-bots:\", nonbots.shape[0])\n"
   ]
  },
  {
   "cell_type": "code",
   "execution_count": 45,
   "metadata": {},
   "outputs": [
    {
     "name": "stdout",
     "output_type": "stream",
     "text": [
      "[1 0]\n"
     ]
    }
   ],
   "source": [
    "# Display the unique values in the ISBOT column\n",
    "print(data_cleaned['Bot Label'].unique())"
   ]
  },
  {
   "cell_type": "code",
   "execution_count": 46,
   "metadata": {},
   "outputs": [
    {
     "name": "stdout",
     "output_type": "stream",
     "text": [
      "Bot Label\n",
      "1    25018\n",
      "0    24982\n",
      "Name: count, dtype: int64\n"
     ]
    }
   ],
   "source": [
    "# Count the unique values\n",
    "bot_label_counts = data_cleaned['Bot Label'].value_counts()\n",
    "print(bot_label_counts)"
   ]
  },
  {
   "cell_type": "code",
   "execution_count": 47,
   "metadata": {},
   "outputs": [
    {
     "name": "stdout",
     "output_type": "stream",
     "text": [
      "Index(['User ID', 'Username', 'Tweet', 'Retweet Count', 'Mention Count',\n",
      "       'Follower Count', 'Verified', 'Bot Label', 'Location', 'Created At',\n",
      "       'Hashtags'],\n",
      "      dtype='object')\n"
     ]
    }
   ],
   "source": [
    "print(df.columns)\n"
   ]
  },
  {
   "cell_type": "code",
   "execution_count": 48,
   "metadata": {},
   "outputs": [
    {
     "name": "stdout",
     "output_type": "stream",
     "text": [
      "Available columns: Index(['User ID', 'Username', 'Tweet', 'Retweet Count', 'Mention Count',\n",
      "       'Follower Count', 'Verified', 'Bot Label', 'Location', 'Created At',\n",
      "       'Hashtags'],\n",
      "      dtype='object')\n",
      "DataFrame after cleaning:\n",
      "   User ID        Username                                              Tweet  \\\n",
      "0   132131           flong  Station activity person against natural majori...   \n",
      "1   289683  hinesstephanie  Authority research natural life material staff...   \n",
      "2   779715      roberttran  Manage whose quickly especially foot none to g...   \n",
      "3   696168          pmason  Just cover eight opportunity strong policy which.   \n",
      "4   704441          noah87                      Animal sign six data good or.   \n",
      "\n",
      "   Retweet Count  Mention Count  Follower Count  Verified      Location  \\\n",
      "0             85              1            2353     False     Adkinston   \n",
      "1             55              5            9617      True    Sanderston   \n",
      "2              6              2            4363      True  Harrisonfurt   \n",
      "3             54              5            2242      True  Martinezberg   \n",
      "4             26              3            8438     False  Camachoville   \n",
      "\n",
      "            Created At            Hashtags  \n",
      "0  2020-05-11 15:29:50                None  \n",
      "1  2022-11-26 05:18:10           both live  \n",
      "2  2022-08-08 03:16:54         phone ahead  \n",
      "3  2021-08-14 22:27:05  ever quickly new I  \n",
      "4  2020-04-13 21:24:21     foreign mention  \n"
     ]
    }
   ],
   "source": [
    "# Load your CSV file\n",
    "df = pd.read_csv('resources/bot_detection_data.csv')\n",
    "\n",
    "# Check available columns\n",
    "print(\"Available columns:\", df.columns)\n",
    "\n",
    "# Drop an unnecessary column (e.g., Bot Label)\n",
    "df.drop(columns=['Bot Label'], inplace=True)  # Make sure 'Bot Label' is indeed the column you want to drop\n",
    "\n",
    "# Handling missing values for other relevant columns\n",
    "df['Location'].fillna('Unknown', inplace=True)  # Fill NaN in Location\n",
    "df['Hashtags'].fillna('None', inplace=True)     # Fill NaN in Hashtags\n",
    "\n",
    "# For numerical columns, fill NaNs with mean or appropriate values\n",
    "df['Follower Count'].fillna(df['Follower Count'].mean(), inplace=True)\n",
    "df['Retweet Count'].fillna(df['Retweet Count'].mean(), inplace=True)\n",
    "df['Mention Count'].fillna(df['Mention Count'].mean(), inplace=True)\n",
    "\n",
    "# Check the DataFrame after cleaning\n",
    "print(\"DataFrame after cleaning:\")\n",
    "print(df.head())\n"
   ]
  },
  {
   "cell_type": "code",
   "execution_count": 49,
   "metadata": {},
   "outputs": [],
   "source": [
    "#  'data_cleaned' is your final DataFrame after cleaning\n",
    "data_cleaned.to_csv('cleaned_data.csv', index=False)\n"
   ]
  }
 ],
 "metadata": {
  "kernelspec": {
   "display_name": "base",
   "language": "python",
   "name": "python3"
  },
  "language_info": {
   "codemirror_mode": {
    "name": "ipython",
    "version": 3
   },
   "file_extension": ".py",
   "mimetype": "text/x-python",
   "name": "python",
   "nbconvert_exporter": "python",
   "pygments_lexer": "ipython3",
   "version": "3.12.3"
  }
 },
 "nbformat": 4,
 "nbformat_minor": 2
}
