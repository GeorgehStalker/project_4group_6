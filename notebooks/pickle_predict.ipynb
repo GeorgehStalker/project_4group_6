{
 "cells": [
  {
   "cell_type": "code",
   "execution_count": 1,
   "id": "a4727219-6ef0-4e6b-8c5a-e4f4e8419362",
   "metadata": {},
   "outputs": [],
   "source": [
    "import pickle"
   ]
  },
  {
   "cell_type": "code",
   "execution_count": 2,
   "id": "88a11ce0-2a1d-4dcc-94a0-791deb3f3e2e",
   "metadata": {},
   "outputs": [],
   "source": [
    "PICKLE_PATH = \"../app/board_games_pipeline.pkl\""
   ]
  },
  {
   "cell_type": "code",
   "execution_count": 3,
   "id": "2bfdbc09-4d5c-47e1-94a9-685e421301b3",
   "metadata": {},
   "outputs": [],
   "source": [
    "# payload = {\n",
    "#     \"feature_df\": df[FEATURE_COLS + ['name']],\n",
    "#     \"preprocessor\": preprocessor,\n",
    "#     \"model\": model,\n",
    "#     # \"pipeline\": nn_pipeline,\n",
    "# }"
   ]
  },
  {
   "cell_type": "code",
   "execution_count": 4,
   "id": "1ab3a3fb-93ba-4e32-bc6d-10bd0e3b641d",
   "metadata": {},
   "outputs": [],
   "source": [
    "with open(PICKLE_PATH, 'rb') as pickle_file:\n",
    "    payload = pickle.load(pickle_file)\n",
    "feature_df = payload[\"feature_df\"]\n",
    "preprocessor = payload[\"preprocessor\"]\n",
    "model = payload[\"model\"]\n",
    "del payload"
   ]
  },
  {
   "cell_type": "code",
   "execution_count": 5,
   "id": "7f0922d7-4d1b-423b-aeb5-26e28f448d32",
   "metadata": {},
   "outputs": [],
   "source": [
    "def get_game(df, game_name):\n",
    "    name_match_mask_s = df['name'].str.lower() == game_name.strip().lower()\n",
    "    matching_rows_df = df[name_match_mask_s]\n",
    "    return matching_rows_df"
   ]
  },
  {
   "cell_type": "code",
   "execution_count": 6,
   "id": "a6e73100-eb4a-4a1f-b7dc-edb718cb0bb6",
   "metadata": {},
   "outputs": [],
   "source": [
    "def get_all_recommendations(preprocessor, model, df, game):\n",
    "    game_features_df = game.drop(columns=['name'])\n",
    "    game_features_preprocessed = preprocessor.transform(game_features_df) \n",
    "    distances, indices = model.kneighbors(game_features_preprocessed) \n",
    "    games = df.iloc[indices[0]]  # Select tracks corresponding to the nearest neighbors\n",
    "    games[\"distance\"] = distances[0]  # Add the distance of each neighbor as a new column\n",
    "\n",
    "    # Step 10: Filter the columns for the final output\n",
    "    cols = games.columns # you can explicitly choose to return specific columns here\n",
    "    games = games.loc[:, cols]  # Keep the relevant columns\n",
    "    games = games.sort_values(by=\"distance\")  # Sort the tracks by their distance (most similar first)\n",
    "\n",
    "    # Step 11: Return the recommended tracks as a list of dictionaries\n",
    "    return games #.to_dict(orient=\"records\")"
   ]
  },
  {
   "cell_type": "code",
   "execution_count": 7,
   "id": "ff044a22-8a5a-4010-b1fb-a8a67d29e3b8",
   "metadata": {},
   "outputs": [
    {
     "name": "stderr",
     "output_type": "stream",
     "text": [
      "C:\\Users\\georg\\AppData\\Local\\Temp\\ipykernel_19364\\2172359522.py:6: SettingWithCopyWarning: \n",
      "A value is trying to be set on a copy of a slice from a DataFrame.\n",
      "Try using .loc[row_indexer,col_indexer] = value instead\n",
      "\n",
      "See the caveats in the documentation: https://pandas.pydata.org/pandas-docs/stable/user_guide/indexing.html#returning-a-view-versus-a-copy\n",
      "  games[\"distance\"] = distances[0]  # Add the distance of each neighbor as a new column\n"
     ]
    }
   ],
   "source": [
    "game = get_game(feature_df, 'Catan')\n",
    "all_recommended_games_df = get_all_recommendations(preprocessor, model, feature_df, game)"
   ]
  },
  {
   "cell_type": "code",
   "execution_count": 8,
   "id": "3d360dd5-abb4-441c-914a-84058f82b757",
   "metadata": {},
   "outputs": [],
   "source": [
    "def filter_recommendations(recommended_games_df, gamelist_length, min_players, max_players, min_playtime, max_playtime, min_age, \n",
    "                               min_average_rating):\n",
    "    filtered_games_df = recommended_games_df[\n",
    "        (recommended_games_df['max_players'] <= max_players) &\n",
    "        (recommended_games_df['max_playtime'] <= max_playtime) &\n",
    "        (recommended_games_df['min_age'] >= min_age) &\n",
    "        (recommended_games_df['min_players'] >= min_players) &\n",
    "        (recommended_games_df['min_playtime'] >= min_playtime) &\n",
    "        (recommended_games_df['average_rating'] >= min_average_rating)\n",
    "    ]\n",
    "    filtered_limited_games_df = filtered_games_df.head(gamelist_length)\n",
    "    return filtered_limited_games_df.to_dict(orient=\"records\")"
   ]
  },
  {
   "cell_type": "code",
   "execution_count": 9,
   "id": "0e8eb7f6-5c69-4f13-8d23-a64e0f786f61",
   "metadata": {},
   "outputs": [],
   "source": [
    "# import pandas as pd # for formatting not necessary in flask\n",
    "\n",
    "# pd.DataFrame(\n",
    "#     filter_recommendations(all_recommended_games_df, 7000, 2, 4, 60, 120, 4, 5) )"
   ]
  },
  {
   "cell_type": "code",
   "execution_count": 10,
   "id": "9e1e3de9-7be9-460e-aeb7-0a354ffd738b",
   "metadata": {},
   "outputs": [],
   "source": [
    "def make_game_recommendations(preprocessor, model, feature_df, name, gamelist_length, min_players, max_players,\n",
    "                              min_playtime, max_playtime, min_age, min_average_rating):\n",
    "    game = get_game(feature_df, name)\n",
    "    all_recommended_games_df = get_all_recommendations(preprocessor, model, feature_df, game)\n",
    "    recommendations = filter_recommendations(all_recommended_games_df, gamelist_length, min_players, max_players,\n",
    "                           min_playtime, max_playtime, min_age, min_average_rating)\n",
    "    return recommendations"
   ]
  },
  {
   "cell_type": "code",
   "execution_count": 11,
   "id": "fde00979-9fc2-4073-8c0f-d1b8c103f240",
   "metadata": {},
   "outputs": [
    {
     "name": "stderr",
     "output_type": "stream",
     "text": [
      "C:\\Users\\georg\\AppData\\Local\\Temp\\ipykernel_19364\\2172359522.py:6: SettingWithCopyWarning: \n",
      "A value is trying to be set on a copy of a slice from a DataFrame.\n",
      "Try using .loc[row_indexer,col_indexer] = value instead\n",
      "\n",
      "See the caveats in the documentation: https://pandas.pydata.org/pandas-docs/stable/user_guide/indexing.html#returning-a-view-versus-a-copy\n",
      "  games[\"distance\"] = distances[0]  # Add the distance of each neighbor as a new column\n"
     ]
    },
    {
     "data": {
      "text/plain": [
       "[{'max_players': 4,\n",
       "  'max_playtime': 120,\n",
       "  'min_age': 10,\n",
       "  'min_players': 3,\n",
       "  'min_playtime': 60,\n",
       "  'playing_time': 120,\n",
       "  'category': 'negotiation',\n",
       "  'mechanic': 'dice rolling',\n",
       "  'average_rating': 7.26569,\n",
       "  'users_rated': 67655,\n",
       "  'category_count': 1,\n",
       "  'mechanic_count': 5,\n",
       "  'has_expansion': 1,\n",
       "  'binned_playtime': 'Long (61-120 minutes)',\n",
       "  'binned_mechanics': 'Action & Movement Mechanics',\n",
       "  'binned_min_age': 'Pre-Teen (10-12)',\n",
       "  'binned_category': 'Social/Party',\n",
       "  'len_description': 457,\n",
       "  'description_sentiment': 0.0988668194550547,\n",
       "  'name': 'Catan',\n",
       "  'distance': 4.440892098500626e-16},\n",
       " {'max_players': 4,\n",
       "  'max_playtime': 90,\n",
       "  'min_age': 10,\n",
       "  'min_players': 2,\n",
       "  'min_playtime': 60,\n",
       "  'playing_time': 90,\n",
       "  'category': 'dice',\n",
       "  'mechanic': 'dice rolling',\n",
       "  'average_rating': 7.6334,\n",
       "  'users_rated': 30432,\n",
       "  'category_count': 2,\n",
       "  'mechanic_count': 3,\n",
       "  'has_expansion': 1,\n",
       "  'binned_playtime': 'Long (61-120 minutes)',\n",
       "  'binned_mechanics': 'Card & Pool Mechanics',\n",
       "  'binned_min_age': 'Pre-Teen (10-12)',\n",
       "  'binned_category': \"Children's/Family\",\n",
       "  'len_description': 198,\n",
       "  'description_sentiment': 0.1281144781144781,\n",
       "  'name': 'Stone Age',\n",
       "  'distance': 0.03523874252064274},\n",
       " {'max_players': 4,\n",
       "  'max_playtime': 90,\n",
       "  'min_age': 12,\n",
       "  'min_players': 2,\n",
       "  'min_playtime': 90,\n",
       "  'playing_time': 90,\n",
       "  'category': 'abstract strategy',\n",
       "  'mechanic': 'area control / area influence',\n",
       "  'average_rating': 7.72379,\n",
       "  'users_rated': 20166,\n",
       "  'category_count': 4,\n",
       "  'mechanic_count': 4,\n",
       "  'has_expansion': 1,\n",
       "  'binned_playtime': 'Long (61-120 minutes)',\n",
       "  'binned_mechanics': 'Strategic Mechanics',\n",
       "  'binned_min_age': 'Pre-Teen (10-12)',\n",
       "  'binned_category': 'Strategy',\n",
       "  'len_description': 281,\n",
       "  'description_sentiment': -0.0601503759398496,\n",
       "  'name': 'Tigris & Euphrates',\n",
       "  'distance': 0.10983036213182773},\n",
       " {'max_players': 4,\n",
       "  'max_playtime': 60,\n",
       "  'min_age': 10,\n",
       "  'min_players': 2,\n",
       "  'min_playtime': 60,\n",
       "  'playing_time': 60,\n",
       "  'category': 'humor',\n",
       "  'mechanic': 'dice rolling',\n",
       "  'average_rating': 7.47467,\n",
       "  'users_rated': 20647,\n",
       "  'category_count': 5,\n",
       "  'mechanic_count': 2,\n",
       "  'has_expansion': 1,\n",
       "  'binned_playtime': 'Medium (31-60 minutes)',\n",
       "  'binned_mechanics': 'Randomness & Chance Mechanics',\n",
       "  'binned_min_age': 'Pre-Teen (10-12)',\n",
       "  'binned_category': 'Entertainment/Pop Culture',\n",
       "  'len_description': 530,\n",
       "  'description_sentiment': 0.0721039844509232,\n",
       "  'name': 'Galaxy Trucker',\n",
       "  'distance': 0.13762226995546922},\n",
       " {'max_players': 4,\n",
       "  'max_playtime': 60,\n",
       "  'min_age': 13,\n",
       "  'min_players': 2,\n",
       "  'min_playtime': 60,\n",
       "  'playing_time': 60,\n",
       "  'category': 'renaissance',\n",
       "  'mechanic': 'card drafting',\n",
       "  'average_rating': 7.13008,\n",
       "  'users_rated': 15146,\n",
       "  'category_count': 2,\n",
       "  'mechanic_count': 4,\n",
       "  'has_expansion': 1,\n",
       "  'binned_playtime': 'Medium (31-60 minutes)',\n",
       "  'binned_mechanics': 'Action & Movement Mechanics',\n",
       "  'binned_min_age': 'Teen (13+)',\n",
       "  'binned_category': 'Strategy',\n",
       "  'len_description': 428,\n",
       "  'description_sentiment': 0.0511234796949082,\n",
       "  'name': 'Thurn and Taxis',\n",
       "  'distance': 0.15291358911469},\n",
       " {'max_players': 4,\n",
       "  'max_playtime': 90,\n",
       "  'min_age': 12,\n",
       "  'min_players': 2,\n",
       "  'min_playtime': 60,\n",
       "  'playing_time': 90,\n",
       "  'category': 'farming',\n",
       "  'mechanic': 'set collection',\n",
       "  'average_rating': 7.56775,\n",
       "  'users_rated': 13707,\n",
       "  'category_count': 2,\n",
       "  'mechanic_count': 2,\n",
       "  'has_expansion': 1,\n",
       "  'binned_playtime': 'Long (61-120 minutes)',\n",
       "  'binned_mechanics': 'Card & Pool Mechanics',\n",
       "  'binned_min_age': 'Pre-Teen (10-12)',\n",
       "  'binned_category': 'Real-life/Simulation',\n",
       "  'len_description': 336,\n",
       "  'description_sentiment': 0.0170815295815295,\n",
       "  'name': 'Village',\n",
       "  'distance': 0.17138206698389635},\n",
       " {'max_players': 4,\n",
       "  'max_playtime': 90,\n",
       "  'min_age': 13,\n",
       "  'min_players': 2,\n",
       "  'min_playtime': 90,\n",
       "  'playing_time': 90,\n",
       "  'category': 'ancient',\n",
       "  'mechanic': 'set collection',\n",
       "  'average_rating': 7.94181,\n",
       "  'users_rated': 17762,\n",
       "  'category_count': 5,\n",
       "  'mechanic_count': 2,\n",
       "  'has_expansion': 1,\n",
       "  'binned_playtime': 'Long (61-120 minutes)',\n",
       "  'binned_mechanics': 'Card & Pool Mechanics',\n",
       "  'binned_min_age': 'Teen (13+)',\n",
       "  'binned_category': 'History/War',\n",
       "  'len_description': 176,\n",
       "  'description_sentiment': 0.1650324675324675,\n",
       "  'name': \"Tzolk'in: The Mayan Calendar\",\n",
       "  'distance': 0.18654559560050588}]"
      ]
     },
     "execution_count": 11,
     "metadata": {},
     "output_type": "execute_result"
    }
   ],
   "source": [
    "make_game_recommendations(preprocessor, model, feature_df, 'Catan', 7, 2, 4, 60, 120, 4, 5)"
   ]
  },
  {
   "cell_type": "code",
   "execution_count": null,
   "id": "3501ef7c-81e1-4a63-aeb3-af7b84e34a88",
   "metadata": {},
   "outputs": [],
   "source": []
  }
 ],
 "metadata": {
  "kernelspec": {
   "display_name": "base",
   "language": "python",
   "name": "python3"
  },
  "language_info": {
   "codemirror_mode": {
    "name": "ipython",
    "version": 3
   },
   "file_extension": ".py",
   "mimetype": "text/x-python",
   "name": "python",
   "nbconvert_exporter": "python",
   "pygments_lexer": "ipython3",
   "version": "3.12.3"
  }
 },
 "nbformat": 4,
 "nbformat_minor": 5
}
