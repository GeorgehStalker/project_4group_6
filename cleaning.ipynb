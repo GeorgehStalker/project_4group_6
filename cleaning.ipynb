{
 "cells": [
  {
   "cell_type": "code",
   "execution_count": 120,
   "metadata": {},
   "outputs": [],
   "source": [
    "import pandas as pd\n"
   ]
  },
  {
   "cell_type": "code",
   "execution_count": 121,
   "metadata": {},
   "outputs": [
    {
     "name": "stdout",
     "output_type": "stream",
     "text": [
      "   game_id                                        description  \\\n",
      "0        1  Die Macher is a game about seven sequential po...   \n",
      "1        2  Dragonmaster is a trick-taking card game based...   \n",
      "2        3  Part of the Knizia tile-laying trilogy, Samura...   \n",
      "3        4  When you see the triangular box and the luxuri...   \n",
      "4        5  In Acquire, each player strategically invests ...   \n",
      "\n",
      "                                          image  max_players  max_playtime  \\\n",
      "0   //cf.geekdo-images.com/images/pic159509.jpg            5           240   \n",
      "1   //cf.geekdo-images.com/images/pic184174.jpg            4            30   \n",
      "2  //cf.geekdo-images.com/images/pic3211873.jpg            4            60   \n",
      "3   //cf.geekdo-images.com/images/pic285299.jpg            4            60   \n",
      "4   //cf.geekdo-images.com/images/pic342163.jpg            6            90   \n",
      "\n",
      "   min_age  min_players  min_playtime            name  playing_time  ...  \\\n",
      "0       14            3           240      Die Macher           240  ...   \n",
      "1       12            3            30    Dragonmaster            30  ...   \n",
      "2       10            2            30         Samurai            60  ...   \n",
      "3       12            2            60  Tal der Könige            60  ...   \n",
      "4       12            3            90         Acquire            90  ...   \n",
      "\n",
      "                        artist                        category compilation  \\\n",
      "0          Marcus Gschwendtner  Economic,Negotiation,Political         NaN   \n",
      "1                   Bob Pepper               Card Game,Fantasy         NaN   \n",
      "2              Franz Vohwinkel      Abstract Strategy,Medieval         NaN   \n",
      "3                          NaN                         Ancient         NaN   \n",
      "4  Scott Okumura,Peter Whitley                        Economic         NaN   \n",
      "\n",
      "                designer expansion  \\\n",
      "0     Karl-Heinz Schmiel       NaN   \n",
      "1  G. W. \"Jerry\" D'Arcey       NaN   \n",
      "2          Reiner Knizia       NaN   \n",
      "3      Christian Beierer       NaN   \n",
      "4            Sid Sackson       NaN   \n",
      "\n",
      "                                              family  \\\n",
      "0         Country: Germany,Valley Games Classic Line   \n",
      "1                                   Animals: Dragons   \n",
      "2  Asian Theme,Country: Japan,Knizia tile-laying ...   \n",
      "3             Country: Egypt,Promotional Board Games   \n",
      "4                                3M Bookshelf Series   \n",
      "\n",
      "                                            mechanic  \\\n",
      "0  Area Control / Area Influence,Auction/Bidding,...   \n",
      "1                                       Trick-taking   \n",
      "2  Area Control / Area Influence,Hand Management,...   \n",
      "3  Action Point Allowance System,Area Control / A...   \n",
      "4       Hand Management,Stock Holding,Tile Placement   \n",
      "\n",
      "                                           publisher average_rating  \\\n",
      "0  Hans im Glück Verlags-GmbH,Moskito Spiele,Vall...        7.66508   \n",
      "1                           E.S. Lowe,Milton Bradley        6.60815   \n",
      "2  999 Games,ABACUSSPIELE,Astrel Games,Ceilikan J...        7.44119   \n",
      "3                                             KOSMOS        6.60675   \n",
      "4  3M,Avalon Hill,Avalon Hill (Hasbro),Dujardin,G...        7.35830   \n",
      "\n",
      "  users_rated  \n",
      "0        4498  \n",
      "1         478  \n",
      "2       12019  \n",
      "3         314  \n",
      "4       15195  \n",
      "\n",
      "[5 rows x 22 columns]\n",
      "<class 'pandas.core.frame.DataFrame'>\n",
      "RangeIndex: 10532 entries, 0 to 10531\n",
      "Data columns (total 22 columns):\n",
      " #   Column          Non-Null Count  Dtype  \n",
      "---  ------          --------------  -----  \n",
      " 0   game_id         10532 non-null  int64  \n",
      " 1   description     10532 non-null  object \n",
      " 2   image           10531 non-null  object \n",
      " 3   max_players     10532 non-null  int64  \n",
      " 4   max_playtime    10532 non-null  int64  \n",
      " 5   min_age         10532 non-null  int64  \n",
      " 6   min_players     10532 non-null  int64  \n",
      " 7   min_playtime    10532 non-null  int64  \n",
      " 8   name            10532 non-null  object \n",
      " 9   playing_time    10532 non-null  int64  \n",
      " 10  thumbnail       10531 non-null  object \n",
      " 11  year_published  10532 non-null  int64  \n",
      " 12  artist          7759 non-null   object \n",
      " 13  category        10438 non-null  object \n",
      " 14  compilation     410 non-null    object \n",
      " 15  designer        10406 non-null  object \n",
      " 16  expansion       2752 non-null   object \n",
      " 17  family          7724 non-null   object \n",
      " 18  mechanic        9582 non-null   object \n",
      " 19  publisher       10529 non-null  object \n",
      " 20  average_rating  10532 non-null  float64\n",
      " 21  users_rated     10532 non-null  int64  \n",
      "dtypes: float64(1), int64(9), object(12)\n",
      "memory usage: 1.8+ MB\n",
      "None\n"
     ]
    }
   ],
   "source": [
    "# Load the CSV file\n",
    "file_path = 'resources/board_games.csv'  # Replace with your file path\n",
    "df = pd.read_csv(file_path)\n",
    "\n",
    "# Display the first few rows and the summary of the DataFrame\n",
    "print(df.head())\n",
    "print(df.info())"
   ]
  },
  {
   "cell_type": "code",
   "execution_count": 122,
   "metadata": {},
   "outputs": [
    {
     "name": "stdout",
     "output_type": "stream",
     "text": [
      "<class 'pandas.core.frame.DataFrame'>\n",
      "RangeIndex: 10532 entries, 0 to 10531\n",
      "Data columns (total 22 columns):\n",
      " #   Column          Non-Null Count  Dtype  \n",
      "---  ------          --------------  -----  \n",
      " 0   game_id         10532 non-null  int64  \n",
      " 1   description     10532 non-null  object \n",
      " 2   image           10531 non-null  object \n",
      " 3   max_players     10532 non-null  int64  \n",
      " 4   max_playtime    10532 non-null  int64  \n",
      " 5   min_age         10532 non-null  int64  \n",
      " 6   min_players     10532 non-null  int64  \n",
      " 7   min_playtime    10532 non-null  int64  \n",
      " 8   name            10532 non-null  object \n",
      " 9   playing_time    10532 non-null  int64  \n",
      " 10  thumbnail       10531 non-null  object \n",
      " 11  year_published  10532 non-null  int64  \n",
      " 12  artist          7759 non-null   object \n",
      " 13  category        10438 non-null  object \n",
      " 14  compilation     410 non-null    object \n",
      " 15  designer        10406 non-null  object \n",
      " 16  expansion       2752 non-null   object \n",
      " 17  family          7724 non-null   object \n",
      " 18  mechanic        9582 non-null   object \n",
      " 19  publisher       10529 non-null  object \n",
      " 20  average_rating  10532 non-null  float64\n",
      " 21  users_rated     10532 non-null  int64  \n",
      "dtypes: float64(1), int64(9), object(12)\n",
      "memory usage: 1.8+ MB\n"
     ]
    }
   ],
   "source": [
    "# Check for missing values\n",
    "df.info()"
   ]
  },
  {
   "cell_type": "code",
   "execution_count": 123,
   "metadata": {},
   "outputs": [
    {
     "data": {
      "text/plain": [
       "(10532, 22)"
      ]
     },
     "execution_count": 123,
     "metadata": {},
     "output_type": "execute_result"
    }
   ],
   "source": [
    "# Check the shape of the DataFrame\n",
    "df.shape"
   ]
  },
  {
   "cell_type": "code",
   "execution_count": 124,
   "metadata": {},
   "outputs": [
    {
     "name": "stdout",
     "output_type": "stream",
     "text": [
      "image              1\n",
      "thumbnail          1\n",
      "artist          2773\n",
      "category          94\n",
      "compilation    10122\n",
      "designer         126\n",
      "expansion       7780\n",
      "family          2808\n",
      "mechanic         950\n",
      "publisher          3\n",
      "dtype: int64\n"
     ]
    }
   ],
   "source": [
    "# Check for missing values\n",
    "missing_values = df.isnull().sum()\n",
    "print(missing_values[missing_values > 0])"
   ]
  },
  {
   "cell_type": "code",
   "execution_count": 125,
   "metadata": {},
   "outputs": [
    {
     "name": "stdout",
     "output_type": "stream",
     "text": [
      "<class 'pandas.core.frame.DataFrame'>\n",
      "RangeIndex: 10532 entries, 0 to 10531\n",
      "Data columns (total 16 columns):\n",
      " #   Column          Non-Null Count  Dtype  \n",
      "---  ------          --------------  -----  \n",
      " 0   game_id         10532 non-null  int64  \n",
      " 1   description     10532 non-null  object \n",
      " 2   max_players     10532 non-null  int64  \n",
      " 3   max_playtime    10532 non-null  int64  \n",
      " 4   min_age         10532 non-null  int64  \n",
      " 5   min_players     10532 non-null  int64  \n",
      " 6   min_playtime    10532 non-null  int64  \n",
      " 7   name            10532 non-null  object \n",
      " 8   playing_time    10532 non-null  int64  \n",
      " 9   category        10438 non-null  object \n",
      " 10  expansion       2752 non-null   object \n",
      " 11  family          7724 non-null   object \n",
      " 12  mechanic        9582 non-null   object \n",
      " 13  publisher       10529 non-null  object \n",
      " 14  average_rating  10532 non-null  float64\n",
      " 15  users_rated     10532 non-null  int64  \n",
      "dtypes: float64(1), int64(8), object(7)\n",
      "memory usage: 1.3+ MB\n",
      "None\n"
     ]
    }
   ],
   "source": [
    "# Drop columns that are not needed or have excessive missing values\n",
    "columns_to_drop = ['image', 'thumbnail', 'compilation', 'year_published', 'artist', 'designer']\n",
    "df.drop(columns=columns_to_drop, inplace=True)\n",
    "\n",
    "# Check the DataFrame to confirm the columns have been dropped\n",
    "print(df.info())\n"
   ]
  },
  {
   "cell_type": "code",
   "execution_count": 126,
   "metadata": {},
   "outputs": [
    {
     "name": "stdout",
     "output_type": "stream",
     "text": [
      "Series([], dtype: int64)\n"
     ]
    }
   ],
   "source": [
    "# Fill missing values in specific columns without using inplace\n",
    "df['category'] = df['category'].fillna('Unknown')\n",
    "df['expansion'] = df['expansion'].fillna('None')\n",
    "df['family'] = df['family'].fillna('None')\n",
    "df['mechanic'] = df['mechanic'].fillna('Unknown')\n",
    "df['publisher'] = df['publisher'].fillna('Unknown')\n",
    "\n",
    "# Verify if any missing values remain\n",
    "remaining_missing_values = df.isnull().sum()\n",
    "print(remaining_missing_values[remaining_missing_values > 0])"
   ]
  },
  {
   "cell_type": "code",
   "execution_count": 127,
   "metadata": {},
   "outputs": [
    {
     "name": "stdout",
     "output_type": "stream",
     "text": [
      "<class 'pandas.core.frame.DataFrame'>\n",
      "RangeIndex: 10532 entries, 0 to 10531\n",
      "Data columns (total 16 columns):\n",
      " #   Column          Non-Null Count  Dtype  \n",
      "---  ------          --------------  -----  \n",
      " 0   game_id         10532 non-null  int64  \n",
      " 1   description     10532 non-null  object \n",
      " 2   max_players     10532 non-null  int64  \n",
      " 3   max_playtime    10532 non-null  int64  \n",
      " 4   min_age         10532 non-null  int64  \n",
      " 5   min_players     10532 non-null  int64  \n",
      " 6   min_playtime    10532 non-null  int64  \n",
      " 7   name            10532 non-null  object \n",
      " 8   playing_time    10532 non-null  int64  \n",
      " 9   category        10532 non-null  object \n",
      " 10  expansion       10532 non-null  object \n",
      " 11  family          10532 non-null  object \n",
      " 12  mechanic        10532 non-null  object \n",
      " 13  publisher       10532 non-null  object \n",
      " 14  average_rating  10532 non-null  float64\n",
      " 15  users_rated     10532 non-null  int64  \n",
      "dtypes: float64(1), int64(8), object(7)\n",
      "memory usage: 1.3+ MB\n"
     ]
    }
   ],
   "source": [
    "# Check the DataFrame again\n",
    "df.info()\n"
   ]
  },
  {
   "cell_type": "code",
   "execution_count": 128,
   "metadata": {},
   "outputs": [
    {
     "data": {
      "text/plain": [
       "(10532, 16)"
      ]
     },
     "execution_count": 128,
     "metadata": {},
     "output_type": "execute_result"
    }
   ],
   "source": [
    "df.shape"
   ]
  },
  {
   "cell_type": "code",
   "execution_count": 129,
   "metadata": {},
   "outputs": [
    {
     "name": "stdout",
     "output_type": "stream",
     "text": [
      "Unique delimiters found in the mechanic column: {'O', 'N', 'E', 'g', 'k', ',', 'S', 'I', 'u', 'd', 'V', 'v', 'r', 'b', 'a', 'x', 'p', 'W', '/', 'e', 't', 'y', 'P', 'C', 'B', 'w', 'U', 'L', 'c', 'h', 'R', 'n', 'D', 'i', ' ', 'l', 'M', 'Y', 'f', 's', 'T', 'H', 'G', 'A', '-', 'o', 'm'}\n"
     ]
    }
   ],
   "source": [
    "# Assuming the DataFrame is named df and the column is 'mechanic'\n",
    "\n",
    "# First, we'll extract all unique values in the mechanic column\n",
    "unique_mechanics = df['mechanic'].dropna().unique()\n",
    "\n",
    "# Then, we can join them into a single string and find unique delimiters\n",
    "mechanic_string = ', '.join(unique_mechanics)\n",
    "\n",
    "# Display the unique delimiters\n",
    "delimiters = set(mechanic_string)  # Using a set to find unique characters\n",
    "print(\"Unique delimiters found in the mechanic column:\", delimiters)\n"
   ]
  },
  {
   "cell_type": "code",
   "execution_count": 130,
   "metadata": {},
   "outputs": [
    {
     "name": "stdout",
     "output_type": "stream",
     "text": [
      "0    Economic,Negotiation,Political\n",
      "1                 Card Game,Fantasy\n",
      "2        Abstract Strategy,Medieval\n",
      "3                           Ancient\n",
      "4                          Economic\n",
      "5             Civilization,Nautical\n",
      "6                 Abstract Strategy\n",
      "7              Civilization,Fantasy\n",
      "8                       Exploration\n",
      "9                    Fantasy,Travel\n",
      "Name: category, dtype: object\n"
     ]
    }
   ],
   "source": [
    "# Display a few rows from the 'category' column\n",
    "print(df['category'].head(10))  # Change the number to see more or fewer rows\n"
   ]
  },
  {
   "cell_type": "code",
   "execution_count": 133,
   "metadata": {},
   "outputs": [
    {
     "data": {
      "text/plain": [
       "Index(['game_id', 'description', 'max_players', 'max_playtime', 'min_age',\n",
       "       'min_players', 'min_playtime', 'name', 'playing_time', 'category',\n",
       "       'expansion', 'family', 'mechanic', 'publisher', 'average_rating',\n",
       "       'users_rated', 'first_value'],\n",
       "      dtype='object')"
      ]
     },
     "execution_count": 133,
     "metadata": {},
     "output_type": "execute_result"
    }
   ],
   "source": [
    "# Split the 'category' column by comma and expand into separate columns\n",
    "df['first_value'] = df['category'].str.split(',').str[0]\n",
    "\n",
    "# Display the first few rows of the split categories    \n",
    "df.columns\n"
   ]
  },
  {
   "cell_type": "code",
   "execution_count": 117,
   "metadata": {},
   "outputs": [
    {
     "data": {
      "text/html": [
       "<div>\n",
       "<style scoped>\n",
       "    .dataframe tbody tr th:only-of-type {\n",
       "        vertical-align: middle;\n",
       "    }\n",
       "\n",
       "    .dataframe tbody tr th {\n",
       "        vertical-align: top;\n",
       "    }\n",
       "\n",
       "    .dataframe thead th {\n",
       "        text-align: right;\n",
       "    }\n",
       "</style>\n",
       "<table border=\"1\" class=\"dataframe\">\n",
       "  <thead>\n",
       "    <tr style=\"text-align: right;\">\n",
       "      <th></th>\n",
       "      <th>0</th>\n",
       "      <th>1</th>\n",
       "      <th>2</th>\n",
       "      <th>3</th>\n",
       "      <th>4</th>\n",
       "      <th>5</th>\n",
       "      <th>6</th>\n",
       "      <th>7</th>\n",
       "      <th>8</th>\n",
       "      <th>9</th>\n",
       "      <th>10</th>\n",
       "      <th>11</th>\n",
       "      <th>12</th>\n",
       "      <th>13</th>\n",
       "    </tr>\n",
       "  </thead>\n",
       "  <tbody>\n",
       "    <tr>\n",
       "      <th>0</th>\n",
       "      <td>Economic</td>\n",
       "      <td>Negotiation</td>\n",
       "      <td>Political</td>\n",
       "      <td>None</td>\n",
       "      <td>None</td>\n",
       "      <td>None</td>\n",
       "      <td>None</td>\n",
       "      <td>None</td>\n",
       "      <td>None</td>\n",
       "      <td>None</td>\n",
       "      <td>None</td>\n",
       "      <td>None</td>\n",
       "      <td>None</td>\n",
       "      <td>None</td>\n",
       "    </tr>\n",
       "    <tr>\n",
       "      <th>1</th>\n",
       "      <td>Card Game</td>\n",
       "      <td>Fantasy</td>\n",
       "      <td>None</td>\n",
       "      <td>None</td>\n",
       "      <td>None</td>\n",
       "      <td>None</td>\n",
       "      <td>None</td>\n",
       "      <td>None</td>\n",
       "      <td>None</td>\n",
       "      <td>None</td>\n",
       "      <td>None</td>\n",
       "      <td>None</td>\n",
       "      <td>None</td>\n",
       "      <td>None</td>\n",
       "    </tr>\n",
       "    <tr>\n",
       "      <th>2</th>\n",
       "      <td>Abstract Strategy</td>\n",
       "      <td>Medieval</td>\n",
       "      <td>None</td>\n",
       "      <td>None</td>\n",
       "      <td>None</td>\n",
       "      <td>None</td>\n",
       "      <td>None</td>\n",
       "      <td>None</td>\n",
       "      <td>None</td>\n",
       "      <td>None</td>\n",
       "      <td>None</td>\n",
       "      <td>None</td>\n",
       "      <td>None</td>\n",
       "      <td>None</td>\n",
       "    </tr>\n",
       "    <tr>\n",
       "      <th>3</th>\n",
       "      <td>Ancient</td>\n",
       "      <td>None</td>\n",
       "      <td>None</td>\n",
       "      <td>None</td>\n",
       "      <td>None</td>\n",
       "      <td>None</td>\n",
       "      <td>None</td>\n",
       "      <td>None</td>\n",
       "      <td>None</td>\n",
       "      <td>None</td>\n",
       "      <td>None</td>\n",
       "      <td>None</td>\n",
       "      <td>None</td>\n",
       "      <td>None</td>\n",
       "    </tr>\n",
       "    <tr>\n",
       "      <th>4</th>\n",
       "      <td>Economic</td>\n",
       "      <td>None</td>\n",
       "      <td>None</td>\n",
       "      <td>None</td>\n",
       "      <td>None</td>\n",
       "      <td>None</td>\n",
       "      <td>None</td>\n",
       "      <td>None</td>\n",
       "      <td>None</td>\n",
       "      <td>None</td>\n",
       "      <td>None</td>\n",
       "      <td>None</td>\n",
       "      <td>None</td>\n",
       "      <td>None</td>\n",
       "    </tr>\n",
       "  </tbody>\n",
       "</table>\n",
       "</div>"
      ],
      "text/plain": [
       "                  0            1          2     3     4     5     6     7   \\\n",
       "0           Economic  Negotiation  Political  None  None  None  None  None   \n",
       "1          Card Game      Fantasy       None  None  None  None  None  None   \n",
       "2  Abstract Strategy     Medieval       None  None  None  None  None  None   \n",
       "3            Ancient         None       None  None  None  None  None  None   \n",
       "4           Economic         None       None  None  None  None  None  None   \n",
       "\n",
       "     8     9     10    11    12    13  \n",
       "0  None  None  None  None  None  None  \n",
       "1  None  None  None  None  None  None  \n",
       "2  None  None  None  None  None  None  \n",
       "3  None  None  None  None  None  None  \n",
       "4  None  None  None  None  None  None  "
      ]
     },
     "execution_count": 117,
     "metadata": {},
     "output_type": "execute_result"
    }
   ],
   "source": [
    "category_split.head()"
   ]
  },
  {
   "cell_type": "code",
   "execution_count": 118,
   "metadata": {},
   "outputs": [
    {
     "name": "stdout",
     "output_type": "stream",
     "text": [
      "0    Economic,Negotiation,Political\n",
      "1                 Card Game,Fantasy\n",
      "2        Abstract Strategy,Medieval\n",
      "3                           Ancient\n",
      "4                          Economic\n",
      "5             Civilization,Nautical\n",
      "6                 Abstract Strategy\n",
      "7              Civilization,Fantasy\n",
      "8                       Exploration\n",
      "9                    Fantasy,Travel\n",
      "Name: category, dtype: object\n"
     ]
    }
   ],
   "source": [
    "# Display a few rows from the 'category' column\n",
    "print(df['category'].head(10))  # Change the number to see more or fewer rows"
   ]
  }
 ],
 "metadata": {
  "kernelspec": {
   "display_name": "base",
   "language": "python",
   "name": "python3"
  },
  "language_info": {
   "codemirror_mode": {
    "name": "ipython",
    "version": 3
   },
   "file_extension": ".py",
   "mimetype": "text/x-python",
   "name": "python",
   "nbconvert_exporter": "python",
   "pygments_lexer": "ipython3",
   "version": "3.12.3"
  }
 },
 "nbformat": 4,
 "nbformat_minor": 2
}
